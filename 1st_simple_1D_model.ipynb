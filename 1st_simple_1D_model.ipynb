{
 "cells": [
  {
   "cell_type": "markdown",
   "metadata": {},
   "source": [
    "The following (hopefully) well posed PDE system is solved on a 1D mesh, $x \\in (-L/2, L/2)$ \n",
    "\n",
    "Given Constants: $n_n = 10^{21}\\,\\mathrm{m}^{-3}$ (neutral particle density), $T_e = 3\\,\\mathrm{eV}, T_i = 300\\,\\mathrm{K}$\n",
    "\n",
    "Collision rate coefficients given as analytic functions:\n",
    "$X_{\\mathrm{ioniz}}(T_e), X_{\\mathrm{el,e}}(T_e), X_{\\mathrm{el,i}}(T_i)$\n",
    "\n",
    "Equation system for $j = e,i$:\n",
    "$$\\partial_t n_j + \\partial_x (n_j u_j) = X_{\\mathrm{ioniz}}n_e n_n$$\n",
    "\n",
    "$$\\left(\\partial_t u_j + u_j \\partial_x u_j\\right) = \\frac{q_j}{m_j} (-\\partial_x{\\phi}) - \\frac{T_j}{m_j n_j}\\partial_x n_j - \\frac{\\mu_j}{m_j} X_{\\mathrm{el,j}}u_j n_n$$\n",
    "$$\\partial_{xx} \\phi = \\frac{e}{\\epsilon_0}(n_e - n_i)$$\n",
    "\n",
    "Unknowns: $n_e, n_i, u_e, u_i, \\phi$\n",
    "\n",
    "Boundary conditions:\n",
    "\n",
    "For Continuity and momentum balances: $n_j u_j = \\left(sign(x)\\frac{1}{2}v_{\\mathrm{th,j}} + sign(q_j)b_j(-\\partial_x \\phi) \\right)n_j$\n",
    "\n",
    "For Poisson equation: $\\phi(0) = \\phi(L) = 0$\n",
    "\n",
    "$v_\\mathrm{th,j} = \\left({\\frac{8 T_j}{\\pi m_j}}\\right)^{1/2}, b_j = {\\frac{e}{m_j n_n X_\\mathrm{el,j}}}$"
   ]
  },
  {
   "cell_type": "code",
   "execution_count": null,
   "metadata": {},
   "outputs": [],
   "source": []
  },
  {
   "cell_type": "code",
   "execution_count": null,
   "metadata": {},
   "outputs": [],
   "source": []
  }
 ],
 "metadata": {
  "kernelspec": {
   "display_name": "Python 3",
   "language": "python",
   "name": "python3"
  },
  "language_info": {
   "codemirror_mode": {
    "name": "ipython",
    "version": 3
   },
   "file_extension": ".py",
   "mimetype": "text/x-python",
   "name": "python",
   "nbconvert_exporter": "python",
   "pygments_lexer": "ipython3",
   "version": "3.6.5"
  }
 },
 "nbformat": 4,
 "nbformat_minor": 2
}
